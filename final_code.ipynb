{
 "cells": [
  {
   "cell_type": "markdown",
   "id": "dad3bed9",
   "metadata": {},
   "source": [
    "## Final Project: Sales Analysis"
   ]
  },
  {
   "cell_type": "code",
   "execution_count": 1,
   "id": "f4159923",
   "metadata": {},
   "outputs": [],
   "source": [
    "# import necessary statements\n",
    "import pandas as pd\n",
    "import matplotlib.pyplot as plt\n",
    "import numpy as np\n",
    "import statsmodels.api as sm"
   ]
  },
  {
   "cell_type": "markdown",
   "id": "4ff8f6ef",
   "metadata": {},
   "source": [
    "### Loading the sales data\n",
    "For all these questions, we will be looking at the products in `sales_data.csv`."
   ]
  },
  {
   "cell_type": "code",
   "execution_count": 2,
   "id": "00ae196b",
   "metadata": {},
   "outputs": [
    {
     "data": {
      "text/html": [
       "<div>\n",
       "<style scoped>\n",
       "    .dataframe tbody tr th:only-of-type {\n",
       "        vertical-align: middle;\n",
       "    }\n",
       "\n",
       "    .dataframe tbody tr th {\n",
       "        vertical-align: top;\n",
       "    }\n",
       "\n",
       "    .dataframe thead th {\n",
       "        text-align: right;\n",
       "    }\n",
       "</style>\n",
       "<table border=\"1\" class=\"dataframe\">\n",
       "  <thead>\n",
       "    <tr style=\"text-align: right;\">\n",
       "      <th></th>\n",
       "      <th>DATE</th>\n",
       "      <th>CUSTOMERID</th>\n",
       "      <th>STATE_CD</th>\n",
       "      <th>PRODUCT_GROUP</th>\n",
       "      <th>CUSTOMER_GROUP</th>\n",
       "      <th>PRODUCT_ID</th>\n",
       "      <th>CONTRACT_ID</th>\n",
       "      <th>SALES_TYPE</th>\n",
       "      <th>REVENUE</th>\n",
       "      <th>ORDER_QUANTITY</th>\n",
       "      <th>COST</th>\n",
       "      <th>UNIT_LIST_PRICE</th>\n",
       "      <th>CONTRACT_PRICE</th>\n",
       "    </tr>\n",
       "  </thead>\n",
       "  <tbody>\n",
       "    <tr>\n",
       "      <th>0</th>\n",
       "      <td>08/14/23</td>\n",
       "      <td>Customer 332</td>\n",
       "      <td>NY</td>\n",
       "      <td>MPG 5</td>\n",
       "      <td>CG 82</td>\n",
       "      <td>Product 133</td>\n",
       "      <td>contract 39429</td>\n",
       "      <td>Special Rebate</td>\n",
       "      <td>103.28</td>\n",
       "      <td>17</td>\n",
       "      <td>21.76</td>\n",
       "      <td>11.0</td>\n",
       "      <td>6.08</td>\n",
       "    </tr>\n",
       "    <tr>\n",
       "      <th>1</th>\n",
       "      <td>02/21/23</td>\n",
       "      <td>Customer 1153</td>\n",
       "      <td>NY</td>\n",
       "      <td>MPG 5</td>\n",
       "      <td>CG 81</td>\n",
       "      <td>Product 134</td>\n",
       "      <td>contract 40135</td>\n",
       "      <td>Special Discount</td>\n",
       "      <td>498.10</td>\n",
       "      <td>170</td>\n",
       "      <td>239.91</td>\n",
       "      <td>11.0</td>\n",
       "      <td>2.93</td>\n",
       "    </tr>\n",
       "    <tr>\n",
       "      <th>2</th>\n",
       "      <td>07/21/23</td>\n",
       "      <td>Customer 861</td>\n",
       "      <td>NY</td>\n",
       "      <td>MPG 5</td>\n",
       "      <td>CG 58</td>\n",
       "      <td>Product 137</td>\n",
       "      <td>contract 39445</td>\n",
       "      <td>Special Rebate</td>\n",
       "      <td>13.74</td>\n",
       "      <td>2</td>\n",
       "      <td>9.42</td>\n",
       "      <td>19.0</td>\n",
       "      <td>6.87</td>\n",
       "    </tr>\n",
       "    <tr>\n",
       "      <th>3</th>\n",
       "      <td>03/30/23</td>\n",
       "      <td>Customer 922</td>\n",
       "      <td>OH</td>\n",
       "      <td>MPG 5</td>\n",
       "      <td>CG 18</td>\n",
       "      <td>Product 139</td>\n",
       "      <td>contract 39853</td>\n",
       "      <td>Special Rebate</td>\n",
       "      <td>5.33</td>\n",
       "      <td>1</td>\n",
       "      <td>4.83</td>\n",
       "      <td>19.0</td>\n",
       "      <td>5.33</td>\n",
       "    </tr>\n",
       "    <tr>\n",
       "      <th>4</th>\n",
       "      <td>06/06/23</td>\n",
       "      <td>Customer 749</td>\n",
       "      <td>AR</td>\n",
       "      <td>MPG 5</td>\n",
       "      <td>CG 101</td>\n",
       "      <td>Product 139</td>\n",
       "      <td>contract 39637</td>\n",
       "      <td>Special Discount</td>\n",
       "      <td>101.40</td>\n",
       "      <td>20</td>\n",
       "      <td>96.66</td>\n",
       "      <td>19.0</td>\n",
       "      <td>5.07</td>\n",
       "    </tr>\n",
       "  </tbody>\n",
       "</table>\n",
       "</div>"
      ],
      "text/plain": [
       "       DATE     CUSTOMERID STATE_CD PRODUCT_GROUP CUSTOMER_GROUP   PRODUCT_ID  \\\n",
       "0  08/14/23   Customer 332       NY         MPG 5          CG 82  Product 133   \n",
       "1  02/21/23  Customer 1153       NY         MPG 5          CG 81  Product 134   \n",
       "2  07/21/23   Customer 861       NY         MPG 5          CG 58  Product 137   \n",
       "3  03/30/23   Customer 922       OH         MPG 5          CG 18  Product 139   \n",
       "4  06/06/23   Customer 749       AR         MPG 5         CG 101  Product 139   \n",
       "\n",
       "      CONTRACT_ID        SALES_TYPE  REVENUE  ORDER_QUANTITY    COST  \\\n",
       "0  contract 39429    Special Rebate   103.28              17   21.76   \n",
       "1  contract 40135  Special Discount   498.10             170  239.91   \n",
       "2  contract 39445    Special Rebate    13.74               2    9.42   \n",
       "3  contract 39853    Special Rebate     5.33               1    4.83   \n",
       "4  contract 39637  Special Discount   101.40              20   96.66   \n",
       "\n",
       "   UNIT_LIST_PRICE  CONTRACT_PRICE  \n",
       "0             11.0            6.08  \n",
       "1             11.0            2.93  \n",
       "2             19.0            6.87  \n",
       "3             19.0            5.33  \n",
       "4             19.0            5.07  "
      ]
     },
     "execution_count": 2,
     "metadata": {},
     "output_type": "execute_result"
    }
   ],
   "source": [
    "df = pd.read_csv('sales_data.csv')\n",
    "df.head()"
   ]
  },
  {
   "cell_type": "markdown",
   "id": "8020c7ec",
   "metadata": {},
   "source": [
    "## 1. Profit Visualization"
   ]
  },
  {
   "cell_type": "code",
   "execution_count": 3,
   "id": "0fd2fd37",
   "metadata": {},
   "outputs": [],
   "source": [
    "# Create a new column named PROFIT\n",
    "df['PROFIT'] = df['REVENUE'] - df['COST']\n",
    "\n",
    "# Convert the DATE column to datetime type\n",
    "df['DATE'] = pd.to_datetime(df['DATE'], format='%m/%d/%y')\n",
    "\n",
    "# Extract month and quarter from the DATE column\n",
    "df['MONTH'] = df['DATE'].dt.to_period('M')\n",
    "df['QUARTER'] = df['DATE'].dt.to_period('Q')"
   ]
  },
  {
   "cell_type": "markdown",
   "id": "fdff5e6e",
   "metadata": {},
   "source": [
    "### 1.1 Monthly Profit"
   ]
  },
  {
   "cell_type": "markdown",
   "id": "43028ab8",
   "metadata": {},
   "source": [
    "### Question 1: Create a monthly profit chart with the months on the x-axis and the profits on the y-axis. \n",
    "\n",
    "In which month does the highest profit occur? In which month does the lowest profit occur?"
   ]
  },
  {
   "cell_type": "code",
   "execution_count": 4,
   "id": "8c9de4cb",
   "metadata": {},
   "outputs": [
    {
     "data": {
      "image/png": "[encoded data removed]",
      "text/plain": [
       "<Figure size 1200x600 with 1 Axes>"
      ]
     },
     "metadata": {},
     "output_type": "display_data"
    }
   ],
   "source": [
    "# Aggregate the data by month and calculate the total profit\n",
    "monthly_profit = df.groupby('MONTH')['PROFIT'].sum().reset_index()\n",
    "\n",
    "# Convert the 'MONTH' column to string format for plotting\n",
    "monthly_profit['MONTH'] = monthly_profit['MONTH'].astype(str)\n",
    "\n",
    "# Plot the monthly profit\n",
    "plt.figure(figsize=(12, 6))\n",
    "plt.plot(monthly_profit['MONTH'], monthly_profit['PROFIT'])\n",
    "plt.xlabel('Month')\n",
    "plt.ylabel('Profit')\n",
    "plt.title('Monthly Profit')\n",
    "plt.xticks(rotation=45)\n",
    "plt.grid(True)\n",
    "plt.show()"
   ]
  },
  {
   "cell_type": "markdown",
   "id": "65de5a95",
   "metadata": {},
   "source": [
    "The monthly profit follows a generally increasing trend over the given time period, starting from around 16,000 in 2023-01 and reaching over 18,750 by 2023-12. However, it is not consistently increasing every month: a significant dip in profit  was around 2023-09, and a sharp peak was around 2023-07.This indicates that the company's monthly profits are subject to some variability and potential seasonality effects, with the highest profits occurring in the middle of the year."
   ]
  },
  {
   "cell_type": "markdown",
   "id": "122451f5",
   "metadata": {},
   "source": [
    "### 1.2 Quarterly Profit"
   ]
  },
  {
   "cell_type": "markdown",
   "id": "b99db97a",
   "metadata": {},
   "source": [
    "### Question 2: Plot a quarterly profit line chart. What is the relationship between monthly profits and quarterly profits?"
   ]
  },
  {
   "cell_type": "code",
   "execution_count": 5,
   "id": "b2996bf4",
   "metadata": {},
   "outputs": [
    {
     "data": {
      "image/png": "[encoded data removed]",
      "text/plain": [
       "<Figure size 1200x600 with 1 Axes>"
      ]
     },
     "metadata": {},
     "output_type": "display_data"
    }
   ],
   "source": [
    "# Aggregate the data by quarter and calculate the total profit\n",
    "quarterly_profit = df.groupby('QUARTER')['PROFIT'].sum().reset_index()\n",
    "\n",
    "# Convert the 'QUARTER' column to string format for plotting\n",
    "quarterly_profit['QUARTER'] = quarterly_profit['QUARTER'].astype(str)\n",
    "\n",
    "# Plot the quarterly profit\n",
    "plt.figure(figsize=(12, 6))\n",
    "plt.plot(quarterly_profit['QUARTER'], quarterly_profit['PROFIT'])\n",
    "plt.xlabel('Quarter')\n",
    "plt.ylabel('Profit')\n",
    "plt.title('Quarterly Profit')\n",
    "plt.xticks(rotation=45)\n",
    "plt.grid(True)\n",
    "plt.show()"
   ]
  },
  {
   "cell_type": "markdown",
   "id": "df519167",
   "metadata": {},
   "source": [
    "The trend in quarterly profits closely mirrors the trend observed in the monthly profit graph.The highest quarterly profit is indeed in the second quarter, which aligns with the highest monthly profits occurring in July and August. This suggests that the company's peak performance is concentrated in the middle of the year."
   ]
  },
  {
   "cell_type": "markdown",
   "id": "b6e11905",
   "metadata": {},
   "source": [
    "## 2. Geographical Analysis"
   ]
  },
  {
   "cell_type": "markdown",
   "id": "78fb064e",
   "metadata": {},
   "source": [
    "### Question 3: What are the top 10 states with the highest sales revenue?"
   ]
  },
  {
   "cell_type": "code",
   "execution_count": 6,
   "id": "a9bd7ea5",
   "metadata": {},
   "outputs": [
    {
     "data": {
      "text/html": [
       "<div>\n",
       "<style scoped>\n",
       "    .dataframe tbody tr th:only-of-type {\n",
       "        vertical-align: middle;\n",
       "    }\n",
       "\n",
       "    .dataframe tbody tr th {\n",
       "        vertical-align: top;\n",
       "    }\n",
       "\n",
       "    .dataframe thead th {\n",
       "        text-align: right;\n",
       "    }\n",
       "</style>\n",
       "<table border=\"1\" class=\"dataframe\">\n",
       "  <thead>\n",
       "    <tr style=\"text-align: right;\">\n",
       "      <th></th>\n",
       "      <th>STATE_CD</th>\n",
       "      <th>REVENUE</th>\n",
       "    </tr>\n",
       "  </thead>\n",
       "  <tbody>\n",
       "    <tr>\n",
       "      <th>4</th>\n",
       "      <td>CO</td>\n",
       "      <td>91484.07</td>\n",
       "    </tr>\n",
       "    <tr>\n",
       "      <th>7</th>\n",
       "      <td>FL</td>\n",
       "      <td>87578.68</td>\n",
       "    </tr>\n",
       "    <tr>\n",
       "      <th>36</th>\n",
       "      <td>TX</td>\n",
       "      <td>67921.37</td>\n",
       "    </tr>\n",
       "    <tr>\n",
       "      <th>8</th>\n",
       "      <td>GA</td>\n",
       "      <td>48353.94</td>\n",
       "    </tr>\n",
       "    <tr>\n",
       "      <th>35</th>\n",
       "      <td>TN</td>\n",
       "      <td>24779.43</td>\n",
       "    </tr>\n",
       "    <tr>\n",
       "      <th>23</th>\n",
       "      <td>NC</td>\n",
       "      <td>22246.91</td>\n",
       "    </tr>\n",
       "    <tr>\n",
       "      <th>32</th>\n",
       "      <td>PA</td>\n",
       "      <td>21773.08</td>\n",
       "    </tr>\n",
       "    <tr>\n",
       "      <th>19</th>\n",
       "      <td>MN</td>\n",
       "      <td>19899.27</td>\n",
       "    </tr>\n",
       "    <tr>\n",
       "      <th>15</th>\n",
       "      <td>LA</td>\n",
       "      <td>18878.03</td>\n",
       "    </tr>\n",
       "    <tr>\n",
       "      <th>33</th>\n",
       "      <td>SC</td>\n",
       "      <td>18518.81</td>\n",
       "    </tr>\n",
       "  </tbody>\n",
       "</table>\n",
       "</div>"
      ],
      "text/plain": [
       "   STATE_CD   REVENUE\n",
       "4        CO  91484.07\n",
       "7        FL  87578.68\n",
       "36       TX  67921.37\n",
       "8        GA  48353.94\n",
       "35       TN  24779.43\n",
       "23       NC  22246.91\n",
       "32       PA  21773.08\n",
       "19       MN  19899.27\n",
       "15       LA  18878.03\n",
       "33       SC  18518.81"
      ]
     },
     "execution_count": 6,
     "metadata": {},
     "output_type": "execute_result"
    }
   ],
   "source": [
    "# Group the data by state and calculate the total revenue for each state\n",
    "state_revenue = df.groupby('STATE_CD')['REVENUE'].sum().reset_index()\n",
    "\n",
    "# Sort the states by revenue in descending order\n",
    "state_revenue = state_revenue.sort_values('REVENUE', ascending=False)\n",
    "state_revenue.head(10)"
   ]
  },
  {
   "cell_type": "markdown",
   "id": "995dd537",
   "metadata": {},
   "source": [
    "### Question 4: What is the product ID with the most order quantity in the state that brings the most profit?"
   ]
  },
  {
   "cell_type": "code",
   "execution_count": 7,
   "id": "8ad7688b",
   "metadata": {},
   "outputs": [
    {
     "data": {
      "text/plain": [
       "'CO'"
      ]
     },
     "execution_count": 7,
     "metadata": {},
     "output_type": "execute_result"
    }
   ],
   "source": [
    "# Calculate profit for each state\n",
    "state_profit = df.groupby('STATE_CD').agg({'REVENUE': 'sum', 'COST': 'sum'}).reset_index()\n",
    "state_profit['PROFIT'] = state_profit['REVENUE'] - state_profit['COST']\n",
    "\n",
    "# Sort states by profit in descending order\n",
    "state_profit = state_profit.sort_values('PROFIT', ascending=False)\n",
    "\n",
    "# Get the state with the most profit\n",
    "most_profitable_state = state_profit.iloc[0]['STATE_CD']\n",
    "most_profitable_state"
   ]
  },
  {
   "cell_type": "markdown",
   "id": "6c5445bb",
   "metadata": {},
   "source": [
    "Colorado brings the most profit."
   ]
  },
  {
   "cell_type": "code",
   "execution_count": 8,
   "id": "a9367c86",
   "metadata": {},
   "outputs": [
    {
     "data": {
      "text/plain": [
       "'Product 5014'"
      ]
     },
     "execution_count": 8,
     "metadata": {},
     "output_type": "execute_result"
    }
   ],
   "source": [
    "# Filter data for the most profitable state\n",
    "state_data = df[df['STATE_CD'] == most_profitable_state]\n",
    "\n",
    "# Group by product ID and calculate total order quantity\n",
    "product_quantity = state_data.groupby('PRODUCT_ID')['ORDER_QUANTITY'].sum().reset_index()\n",
    "\n",
    "# Sort products by order quantity in descending order\n",
    "product_quantity = product_quantity.sort_values('ORDER_QUANTITY', ascending=False)\n",
    "\n",
    "# Get the product ID with the most order quantity\n",
    "most_ordered_product = product_quantity.iloc[0]['PRODUCT_ID']\n",
    "most_ordered_product"
   ]
  },
  {
   "cell_type": "markdown",
   "id": "a0c0ea8e",
   "metadata": {},
   "source": [
    "In Colorado, Product 5014 has the most order quantity."
   ]
  },
  {
   "cell_type": "markdown",
   "id": "612221e2",
   "metadata": {},
   "source": [
    "### Question 5: Find the correlation between STATE_CD and COST."
   ]
  },
  {
   "cell_type": "code",
   "execution_count": 9,
   "id": "59df6b97",
   "metadata": {},
   "outputs": [
    {
     "name": "stdout",
     "output_type": "stream",
     "text": [
      "Correlation between 'STATE_CD' and 'COST': -0.09920098925078161\n"
     ]
    }
   ],
   "source": [
    "from sklearn.preprocessing import LabelEncoder\n",
    "\n",
    "# Create a copy of the original DataFrame to avoid modifying it\n",
    "df_encoded = df.copy()\n",
    "\n",
    "# Initialize LabelEncoder\n",
    "le = LabelEncoder()\n",
    "\n",
    "# Encode the 'STATE_CD' column\n",
    "df_encoded['STATE_CD_ENCODED'] = le.fit_transform(df_encoded['STATE_CD'])\n",
    "\n",
    "# Calculate the correlation between 'STATE_CD_ENCODED' and 'COST'\n",
    "correlation = df_encoded['STATE_CD_ENCODED'].corr(df_encoded['COST'])\n",
    "\n",
    "print(f\"Correlation between 'STATE_CD' and 'COST': {correlation}\")"
   ]
  },
  {
   "cell_type": "markdown",
   "id": "b9a34ab9",
   "metadata": {},
   "source": [
    "## 3. Unique Product"
   ]
  },
  {
   "cell_type": "markdown",
   "id": "ef40b4a5",
   "metadata": {},
   "source": [
    "### Question 6: How many unique products are there?"
   ]
  },
  {
   "cell_type": "code",
   "execution_count": 10,
   "id": "9121b3f7",
   "metadata": {},
   "outputs": [
    {
     "data": {
      "text/plain": [
       "194"
      ]
     },
     "execution_count": 10,
     "metadata": {},
     "output_type": "execute_result"
    }
   ],
   "source": [
    "unique_product_ids = df['PRODUCT_ID'].nunique()\n",
    "unique_product_ids"
   ]
  },
  {
   "cell_type": "markdown",
   "id": "43a20172",
   "metadata": {},
   "source": [
    "### Question 7: What is the profit for each unique product ID? Sort in descending order by profit."
   ]
  },
  {
   "cell_type": "code",
   "execution_count": 11,
   "id": "be891a49",
   "metadata": {},
   "outputs": [
    {
     "data": {
      "text/html": [
       "<div>\n",
       "<style scoped>\n",
       "    .dataframe tbody tr th:only-of-type {\n",
       "        vertical-align: middle;\n",
       "    }\n",
       "\n",
       "    .dataframe tbody tr th {\n",
       "        vertical-align: top;\n",
       "    }\n",
       "\n",
       "    .dataframe thead th {\n",
       "        text-align: right;\n",
       "    }\n",
       "</style>\n",
       "<table border=\"1\" class=\"dataframe\">\n",
       "  <thead>\n",
       "    <tr style=\"text-align: right;\">\n",
       "      <th></th>\n",
       "      <th>PRODUCT_ID</th>\n",
       "      <th>PROFIT</th>\n",
       "    </tr>\n",
       "  </thead>\n",
       "  <tbody>\n",
       "    <tr>\n",
       "      <th>111</th>\n",
       "      <td>Product 4925</td>\n",
       "      <td>43721.01</td>\n",
       "    </tr>\n",
       "    <tr>\n",
       "      <th>110</th>\n",
       "      <td>Product 4921</td>\n",
       "      <td>43052.24</td>\n",
       "    </tr>\n",
       "    <tr>\n",
       "      <th>104</th>\n",
       "      <td>Product 4905</td>\n",
       "      <td>22999.43</td>\n",
       "    </tr>\n",
       "    <tr>\n",
       "      <th>106</th>\n",
       "      <td>Product 4909</td>\n",
       "      <td>17185.45</td>\n",
       "    </tr>\n",
       "    <tr>\n",
       "      <th>79</th>\n",
       "      <td>Product 4552</td>\n",
       "      <td>5034.74</td>\n",
       "    </tr>\n",
       "    <tr>\n",
       "      <th>...</th>\n",
       "      <td>...</td>\n",
       "      <td>...</td>\n",
       "    </tr>\n",
       "    <tr>\n",
       "      <th>149</th>\n",
       "      <td>Product 5073</td>\n",
       "      <td>-2243.57</td>\n",
       "    </tr>\n",
       "    <tr>\n",
       "      <th>168</th>\n",
       "      <td>Product 5153</td>\n",
       "      <td>-2765.30</td>\n",
       "    </tr>\n",
       "    <tr>\n",
       "      <th>154</th>\n",
       "      <td>Product 5087</td>\n",
       "      <td>-3036.43</td>\n",
       "    </tr>\n",
       "    <tr>\n",
       "      <th>157</th>\n",
       "      <td>Product 5096</td>\n",
       "      <td>-3334.60</td>\n",
       "    </tr>\n",
       "    <tr>\n",
       "      <th>150</th>\n",
       "      <td>Product 5074</td>\n",
       "      <td>-6433.47</td>\n",
       "    </tr>\n",
       "  </tbody>\n",
       "</table>\n",
       "<p>194 rows × 2 columns</p>\n",
       "</div>"
      ],
      "text/plain": [
       "       PRODUCT_ID    PROFIT\n",
       "111  Product 4925  43721.01\n",
       "110  Product 4921  43052.24\n",
       "104  Product 4905  22999.43\n",
       "106  Product 4909  17185.45\n",
       "79   Product 4552   5034.74\n",
       "..            ...       ...\n",
       "149  Product 5073  -2243.57\n",
       "168  Product 5153  -2765.30\n",
       "154  Product 5087  -3036.43\n",
       "157  Product 5096  -3334.60\n",
       "150  Product 5074  -6433.47\n",
       "\n",
       "[194 rows x 2 columns]"
      ]
     },
     "execution_count": 11,
     "metadata": {},
     "output_type": "execute_result"
    }
   ],
   "source": [
    "# Calculate the profit of each unique product ID\n",
    "product_profit = df.groupby('PRODUCT_ID')['PROFIT'].sum().reset_index()\n",
    "\n",
    "# Sort the product profit in descending order\n",
    "product_profit = product_profit.sort_values('PROFIT', ascending=False)\n",
    "product_profit"
   ]
  },
  {
   "cell_type": "markdown",
   "id": "dc34151c",
   "metadata": {},
   "source": [
    "There are 194 unique product. But some products have **negative margins**."
   ]
  },
  {
   "cell_type": "markdown",
   "id": "3a307284",
   "metadata": {},
   "source": [
    "### Question 8: How many products have positive profit?"
   ]
  },
  {
   "cell_type": "code",
   "execution_count": 12,
   "id": "8793f139",
   "metadata": {},
   "outputs": [
    {
     "data": {
      "text/plain": [
       "159"
      ]
     },
     "execution_count": 12,
     "metadata": {},
     "output_type": "execute_result"
    }
   ],
   "source": [
    "positive_profit_count = (product_profit['PROFIT'] > 0).sum()\n",
    "positive_profit_count"
   ]
  },
  {
   "cell_type": "markdown",
   "id": "2fd1bae2",
   "metadata": {},
   "source": [
    "### Question 9: Which product is the profit champion?"
   ]
  },
  {
   "cell_type": "code",
   "execution_count": 13,
   "id": "6032c630",
   "metadata": {},
   "outputs": [
    {
     "data": {
      "text/plain": [
       "PRODUCT_ID    Product 4925\n",
       "PROFIT            43721.01\n",
       "Name: 111, dtype: object"
      ]
     },
     "execution_count": 13,
     "metadata": {},
     "output_type": "execute_result"
    }
   ],
   "source": [
    "# Filter the products with positive profit\n",
    "positive_profit_products = product_profit[product_profit['PROFIT'] > 0]\n",
    "\n",
    "# Sort the positive profit products in descending order\n",
    "positive_profit_products = positive_profit_products.sort_values('PROFIT', ascending=False)\n",
    "\n",
    "profit_champion = positive_profit_products.iloc[0]\n",
    "profit_champion"
   ]
  },
  {
   "cell_type": "markdown",
   "id": "8eda989d",
   "metadata": {},
   "source": [
    "**Product 4925** is the profit champion."
   ]
  },
  {
   "cell_type": "markdown",
   "id": "f6eadfb7",
   "metadata": {},
   "source": [
    "### Question 10: Create a profit chart of all products with positive profits. \n",
    "The x-axis is the product ID and the y-axis is the profit."
   ]
  },
  {
   "cell_type": "code",
   "execution_count": 14,
   "id": "1b69e2a4",
   "metadata": {},
   "outputs": [
    {
     "data": {
      "image/png": "[encoded data removed]",
      "text/plain": [
       "<Figure size 2000x1000 with 1 Axes>"
      ]
     },
     "metadata": {},
     "output_type": "display_data"
    }
   ],
   "source": [
    "# Create a bar chart of positive profit products\n",
    "plt.figure(figsize=(20, 10))\n",
    "plt.bar(positive_profit_products['PRODUCT_ID'], positive_profit_products['PROFIT'])\n",
    "plt.xlabel('Product ID')\n",
    "plt.ylabel('Profit')\n",
    "plt.title('Positive Profit by Product ID')\n",
    "plt.xticks(rotation=45)\n",
    "plt.grid(True)\n",
    "plt.show()"
   ]
  },
  {
   "cell_type": "markdown",
   "id": "e531b993",
   "metadata": {},
   "source": [
    "We noticed that there is a long tail in the graph. It indicates that there are numerous products with relatively low profit contributions. The tail extends far to the right, suggesting that a significant portion of the product portfolio generates minimal profits individually, but collectively, they may still contribute to the overall profitability."
   ]
  },
  {
   "cell_type": "markdown",
   "id": "d8bc84ff",
   "metadata": {},
   "source": [
    "Given the significant profit contributions of the top products, it would be wise to prioritize and allocate resources to further promote and optimize these products. **Therefore, the following analysis will focus on the profit champion product: Product 4925.**"
   ]
  },
  {
   "cell_type": "markdown",
   "id": "9e697526",
   "metadata": {},
   "source": [
    "## 4. Profit Champion: Product 4925"
   ]
  },
  {
   "cell_type": "markdown",
   "id": "33bbdf75",
   "metadata": {},
   "source": [
    "### 4.1 Product Group"
   ]
  },
  {
   "cell_type": "markdown",
   "id": "d4f435cb",
   "metadata": {},
   "source": [
    "### Question 11: To which product group does product 4925 belong?"
   ]
  },
  {
   "cell_type": "code",
   "execution_count": 15,
   "id": "277aaf02",
   "metadata": {},
   "outputs": [
    {
     "data": {
      "text/plain": [
       "'MPG 11'"
      ]
     },
     "execution_count": 15,
     "metadata": {},
     "output_type": "execute_result"
    }
   ],
   "source": [
    "# Find the PRODUCT_GROUP for Product 4925\n",
    "product_group = df[df['PRODUCT_ID'] == 'Product 4925']['PRODUCT_GROUP'].iloc[0]\n",
    "product_group"
   ]
  },
  {
   "cell_type": "markdown",
   "id": "01d21fab",
   "metadata": {},
   "source": [
    "Product 4925 belongs to MPG 11."
   ]
  },
  {
   "cell_type": "markdown",
   "id": "54b03671",
   "metadata": {},
   "source": [
    "### 4.2 Monthly Profit"
   ]
  },
  {
   "cell_type": "markdown",
   "id": "996340d3",
   "metadata": {},
   "source": [
    "### Question 12: Which month has the lowest profit for product 4925?"
   ]
  },
  {
   "cell_type": "code",
   "execution_count": 16,
   "id": "a6e15cbb",
   "metadata": {},
   "outputs": [
    {
     "data": {
      "text/plain": [
       "MONTH     2023-09\n",
       "PROFIT      36.38\n",
       "Name: 8, dtype: object"
      ]
     },
     "execution_count": 16,
     "metadata": {},
     "output_type": "execute_result"
    }
   ],
   "source": [
    "# Calculate the monthly profit of Product 4925\n",
    "product_4925_profit = df[df['PRODUCT_ID'] == 'Product 4925'].copy()\n",
    "product_4925_profit['DATE'] = pd.to_datetime(product_4925_profit['DATE'], format='%m/%d/%y')\n",
    "product_4925_profit['MONTH'] = product_4925_profit['DATE'].dt.to_period('M')\n",
    "\n",
    "monthly_profit_4925 = product_4925_profit.groupby('MONTH')['PROFIT'].sum().reset_index()\n",
    "monthly_profit_4925 = monthly_profit_4925.sort_values('PROFIT')\n",
    "\n",
    "profit_loser_4925 = monthly_profit_4925.iloc[0]\n",
    "profit_loser_4925"
   ]
  },
  {
   "cell_type": "markdown",
   "id": "64af9076",
   "metadata": {},
   "source": [
    "Product 4925 reached bottom profits in Sep."
   ]
  },
  {
   "cell_type": "markdown",
   "id": "8f3c247d",
   "metadata": {},
   "source": [
    "### 4.3 Customer ID"
   ]
  },
  {
   "cell_type": "markdown",
   "id": "09aa8f71",
   "metadata": {},
   "source": [
    "### Question 13: Which customer purchases product 4925 the most?"
   ]
  },
  {
   "cell_type": "code",
   "execution_count": 17,
   "id": "97f9dae9",
   "metadata": {},
   "outputs": [
    {
     "name": "stdout",
     "output_type": "stream",
     "text": [
      "       CUSTOMERID  PURCHASE_COUNT\n",
      "14   Customer 928               5\n",
      "8    Customer 818               3\n",
      "13   Customer 890               2\n",
      "12   Customer 873               2\n",
      "11   Customer 864               2\n",
      "10   Customer 829               2\n",
      "9    Customer 823               1\n",
      "15   Customer 948               1\n",
      "0   Customer 1003               1\n",
      "1   Customer 1036               1\n",
      "7    Customer 419               1\n",
      "6     Customer 16               1\n",
      "5    Customer 149               1\n",
      "4   Customer 1406               1\n",
      "3   Customer 1140               1\n",
      "2    Customer 105               1\n",
      "16   Customer 963               1\n"
     ]
    },
    {
     "data": {
      "text/plain": [
       "CUSTOMERID        Customer 928\n",
       "PURCHASE_COUNT               5\n",
       "Name: 14, dtype: object"
      ]
     },
     "execution_count": 17,
     "metadata": {},
     "output_type": "execute_result"
    }
   ],
   "source": [
    "# Find unique Customer IDs who purchased Product 4925 and the number of times they purchased it\n",
    "customer_purchases_4925 = df[df['PRODUCT_ID'] == 'Product 4925'].groupby('CUSTOMERID').size().reset_index(name='PURCHASE_COUNT')\n",
    "customer_purchases_4925 = customer_purchases_4925.sort_values('PURCHASE_COUNT', ascending=False)\n",
    "print(customer_purchases_4925)\n",
    "\n",
    "max_pruchase_customer = customer_purchases_4925.iloc[0]\n",
    "max_pruchase_customer"
   ]
  },
  {
   "cell_type": "markdown",
   "id": "19331a1e",
   "metadata": {},
   "source": [
    "Customer 928 has made the most purchases."
   ]
  },
  {
   "cell_type": "markdown",
   "id": "2b75edeb",
   "metadata": {},
   "source": [
    "### Question 14: Which customer purchased the largest quantity of product 4925?"
   ]
  },
  {
   "cell_type": "code",
   "execution_count": 18,
   "id": "4c7a4643",
   "metadata": {},
   "outputs": [
    {
     "data": {
      "text/html": [
       "<div>\n",
       "<style scoped>\n",
       "    .dataframe tbody tr th:only-of-type {\n",
       "        vertical-align: middle;\n",
       "    }\n",
       "\n",
       "    .dataframe tbody tr th {\n",
       "        vertical-align: top;\n",
       "    }\n",
       "\n",
       "    .dataframe thead th {\n",
       "        text-align: right;\n",
       "    }\n",
       "</style>\n",
       "<table border=\"1\" class=\"dataframe\">\n",
       "  <thead>\n",
       "    <tr style=\"text-align: right;\">\n",
       "      <th></th>\n",
       "      <th>CUSTOMERID</th>\n",
       "      <th>ORDER_QUANTITY</th>\n",
       "    </tr>\n",
       "  </thead>\n",
       "  <tbody>\n",
       "    <tr>\n",
       "      <th>0</th>\n",
       "      <td>Customer 1003</td>\n",
       "      <td>72</td>\n",
       "    </tr>\n",
       "    <tr>\n",
       "      <th>1</th>\n",
       "      <td>Customer 1036</td>\n",
       "      <td>106</td>\n",
       "    </tr>\n",
       "    <tr>\n",
       "      <th>2</th>\n",
       "      <td>Customer 105</td>\n",
       "      <td>284</td>\n",
       "    </tr>\n",
       "    <tr>\n",
       "      <th>3</th>\n",
       "      <td>Customer 1140</td>\n",
       "      <td>2</td>\n",
       "    </tr>\n",
       "    <tr>\n",
       "      <th>4</th>\n",
       "      <td>Customer 1406</td>\n",
       "      <td>193</td>\n",
       "    </tr>\n",
       "    <tr>\n",
       "      <th>5</th>\n",
       "      <td>Customer 149</td>\n",
       "      <td>55</td>\n",
       "    </tr>\n",
       "    <tr>\n",
       "      <th>6</th>\n",
       "      <td>Customer 16</td>\n",
       "      <td>18</td>\n",
       "    </tr>\n",
       "    <tr>\n",
       "      <th>7</th>\n",
       "      <td>Customer 419</td>\n",
       "      <td>26</td>\n",
       "    </tr>\n",
       "    <tr>\n",
       "      <th>8</th>\n",
       "      <td>Customer 818</td>\n",
       "      <td>812</td>\n",
       "    </tr>\n",
       "    <tr>\n",
       "      <th>9</th>\n",
       "      <td>Customer 823</td>\n",
       "      <td>6</td>\n",
       "    </tr>\n",
       "    <tr>\n",
       "      <th>10</th>\n",
       "      <td>Customer 829</td>\n",
       "      <td>187</td>\n",
       "    </tr>\n",
       "    <tr>\n",
       "      <th>11</th>\n",
       "      <td>Customer 864</td>\n",
       "      <td>688</td>\n",
       "    </tr>\n",
       "    <tr>\n",
       "      <th>12</th>\n",
       "      <td>Customer 873</td>\n",
       "      <td>256</td>\n",
       "    </tr>\n",
       "    <tr>\n",
       "      <th>13</th>\n",
       "      <td>Customer 890</td>\n",
       "      <td>150</td>\n",
       "    </tr>\n",
       "    <tr>\n",
       "      <th>14</th>\n",
       "      <td>Customer 928</td>\n",
       "      <td>140</td>\n",
       "    </tr>\n",
       "    <tr>\n",
       "      <th>15</th>\n",
       "      <td>Customer 948</td>\n",
       "      <td>58</td>\n",
       "    </tr>\n",
       "    <tr>\n",
       "      <th>16</th>\n",
       "      <td>Customer 963</td>\n",
       "      <td>46</td>\n",
       "    </tr>\n",
       "  </tbody>\n",
       "</table>\n",
       "</div>"
      ],
      "text/plain": [
       "       CUSTOMERID  ORDER_QUANTITY\n",
       "0   Customer 1003              72\n",
       "1   Customer 1036             106\n",
       "2    Customer 105             284\n",
       "3   Customer 1140               2\n",
       "4   Customer 1406             193\n",
       "5    Customer 149              55\n",
       "6     Customer 16              18\n",
       "7    Customer 419              26\n",
       "8    Customer 818             812\n",
       "9    Customer 823               6\n",
       "10   Customer 829             187\n",
       "11   Customer 864             688\n",
       "12   Customer 873             256\n",
       "13   Customer 890             150\n",
       "14   Customer 928             140\n",
       "15   Customer 948              58\n",
       "16   Customer 963              46"
      ]
     },
     "execution_count": 18,
     "metadata": {},
     "output_type": "execute_result"
    }
   ],
   "source": [
    "customer_quantity_4925 = df[df['PRODUCT_ID'] == 'Product 4925'].groupby('CUSTOMERID')['ORDER_QUANTITY'].sum().reset_index()\n",
    "customer_quantity_4925"
   ]
  },
  {
   "cell_type": "code",
   "execution_count": 19,
   "id": "b65fd362",
   "metadata": {},
   "outputs": [
    {
     "name": "stdout",
     "output_type": "stream",
     "text": [
      "Customer 818\n",
      "812\n"
     ]
    }
   ],
   "source": [
    "# Find the customer who purchased the largest quantity of Product 4925\n",
    "max_quantity_customer = customer_quantity_4925.loc[customer_quantity_4925['ORDER_QUANTITY'].idxmax(), 'CUSTOMERID']\n",
    "max_quantity = customer_quantity_4925['ORDER_QUANTITY'].max()\n",
    "print(max_quantity_customer)\n",
    "print(max_quantity)"
   ]
  },
  {
   "cell_type": "markdown",
   "id": "02a384af",
   "metadata": {},
   "source": [
    "Customer 818 purchased the largest quantity of Product 4925."
   ]
  },
  {
   "cell_type": "markdown",
   "id": "b43bad6a",
   "metadata": {},
   "source": [
    "### Question 15: Which customer brings the most profit to Product 4925?"
   ]
  },
  {
   "cell_type": "code",
   "execution_count": 20,
   "id": "5d74e7c1",
   "metadata": {},
   "outputs": [
    {
     "data": {
      "text/html": [
       "<div>\n",
       "<style scoped>\n",
       "    .dataframe tbody tr th:only-of-type {\n",
       "        vertical-align: middle;\n",
       "    }\n",
       "\n",
       "    .dataframe tbody tr th {\n",
       "        vertical-align: top;\n",
       "    }\n",
       "\n",
       "    .dataframe thead th {\n",
       "        text-align: right;\n",
       "    }\n",
       "</style>\n",
       "<table border=\"1\" class=\"dataframe\">\n",
       "  <thead>\n",
       "    <tr style=\"text-align: right;\">\n",
       "      <th></th>\n",
       "      <th>CUSTOMERID</th>\n",
       "      <th>PROFIT</th>\n",
       "    </tr>\n",
       "  </thead>\n",
       "  <tbody>\n",
       "    <tr>\n",
       "      <th>0</th>\n",
       "      <td>Customer 1003</td>\n",
       "      <td>997.98</td>\n",
       "    </tr>\n",
       "    <tr>\n",
       "      <th>1</th>\n",
       "      <td>Customer 1036</td>\n",
       "      <td>972.09</td>\n",
       "    </tr>\n",
       "    <tr>\n",
       "      <th>2</th>\n",
       "      <td>Customer 105</td>\n",
       "      <td>3467.91</td>\n",
       "    </tr>\n",
       "    <tr>\n",
       "      <th>3</th>\n",
       "      <td>Customer 1140</td>\n",
       "      <td>36.38</td>\n",
       "    </tr>\n",
       "    <tr>\n",
       "      <th>4</th>\n",
       "      <td>Customer 1406</td>\n",
       "      <td>3148.09</td>\n",
       "    </tr>\n",
       "    <tr>\n",
       "      <th>5</th>\n",
       "      <td>Customer 149</td>\n",
       "      <td>898.76</td>\n",
       "    </tr>\n",
       "    <tr>\n",
       "      <th>6</th>\n",
       "      <td>Customer 16</td>\n",
       "      <td>448.75</td>\n",
       "    </tr>\n",
       "    <tr>\n",
       "      <th>7</th>\n",
       "      <td>Customer 419</td>\n",
       "      <td>316.45</td>\n",
       "    </tr>\n",
       "    <tr>\n",
       "      <th>8</th>\n",
       "      <td>Customer 818</td>\n",
       "      <td>9251.24</td>\n",
       "    </tr>\n",
       "    <tr>\n",
       "      <th>9</th>\n",
       "      <td>Customer 823</td>\n",
       "      <td>72.25</td>\n",
       "    </tr>\n",
       "    <tr>\n",
       "      <th>10</th>\n",
       "      <td>Customer 829</td>\n",
       "      <td>2930.81</td>\n",
       "    </tr>\n",
       "    <tr>\n",
       "      <th>11</th>\n",
       "      <td>Customer 864</td>\n",
       "      <td>10342.23</td>\n",
       "    </tr>\n",
       "    <tr>\n",
       "      <th>12</th>\n",
       "      <td>Customer 873</td>\n",
       "      <td>4830.02</td>\n",
       "    </tr>\n",
       "    <tr>\n",
       "      <th>13</th>\n",
       "      <td>Customer 890</td>\n",
       "      <td>2043.65</td>\n",
       "    </tr>\n",
       "    <tr>\n",
       "      <th>14</th>\n",
       "      <td>Customer 928</td>\n",
       "      <td>2250.67</td>\n",
       "    </tr>\n",
       "    <tr>\n",
       "      <th>15</th>\n",
       "      <td>Customer 948</td>\n",
       "      <td>1072.47</td>\n",
       "    </tr>\n",
       "    <tr>\n",
       "      <th>16</th>\n",
       "      <td>Customer 963</td>\n",
       "      <td>641.26</td>\n",
       "    </tr>\n",
       "  </tbody>\n",
       "</table>\n",
       "</div>"
      ],
      "text/plain": [
       "       CUSTOMERID    PROFIT\n",
       "0   Customer 1003    997.98\n",
       "1   Customer 1036    972.09\n",
       "2    Customer 105   3467.91\n",
       "3   Customer 1140     36.38\n",
       "4   Customer 1406   3148.09\n",
       "5    Customer 149    898.76\n",
       "6     Customer 16    448.75\n",
       "7    Customer 419    316.45\n",
       "8    Customer 818   9251.24\n",
       "9    Customer 823     72.25\n",
       "10   Customer 829   2930.81\n",
       "11   Customer 864  10342.23\n",
       "12   Customer 873   4830.02\n",
       "13   Customer 890   2043.65\n",
       "14   Customer 928   2250.67\n",
       "15   Customer 948   1072.47\n",
       "16   Customer 963    641.26"
      ]
     },
     "execution_count": 20,
     "metadata": {},
     "output_type": "execute_result"
    }
   ],
   "source": [
    "customer_profit_4925 = df[df['PRODUCT_ID'] == 'Product 4925'].groupby('CUSTOMERID')['PROFIT'].sum().reset_index()\n",
    "customer_profit_4925"
   ]
  },
  {
   "cell_type": "code",
   "execution_count": 21,
   "id": "0eeefc69",
   "metadata": {},
   "outputs": [
    {
     "name": "stdout",
     "output_type": "stream",
     "text": [
      "Customer 864\n",
      "10342.23\n"
     ]
    }
   ],
   "source": [
    "# Find the customer ID with the highest profit for Product 4925\n",
    "max_profit_customer = customer_profit_4925.loc[customer_profit_4925['PROFIT'].idxmax(), 'CUSTOMERID']\n",
    "max_profit = customer_profit_4925['PROFIT'].max()\n",
    "print(max_profit_customer)\n",
    "print(max_profit)"
   ]
  },
  {
   "cell_type": "markdown",
   "id": "8ca8cf73",
   "metadata": {},
   "source": [
    "Customer 864 brings the highest profit (10342.23) for Product 4925."
   ]
  },
  {
   "cell_type": "markdown",
   "id": "13573b81",
   "metadata": {},
   "source": [
    "### 4.4 Customer Group"
   ]
  },
  {
   "cell_type": "markdown",
   "id": "29fe0ac7",
   "metadata": {},
   "source": [
    "### Question 16: Which customer group does the customer who purchased the largest quantity of product 4925 come from?"
   ]
  },
  {
   "cell_type": "code",
   "execution_count": 22,
   "id": "142850be",
   "metadata": {},
   "outputs": [
    {
     "data": {
      "text/plain": [
       "'CG 4'"
      ]
     },
     "execution_count": 22,
     "metadata": {},
     "output_type": "execute_result"
    }
   ],
   "source": [
    "# Find the CUSTOMER_GROUP for the customer who purchased the largest quantity of Product 4925\n",
    "customer_group_max_quantity = df[(df['PRODUCT_ID'] == 'Product 4925') & (df['CUSTOMERID'] == max_quantity_customer)]['CUSTOMER_GROUP'].iloc[0]\n",
    "customer_group_max_quantity"
   ]
  },
  {
   "cell_type": "markdown",
   "id": "2c191dcb",
   "metadata": {},
   "source": [
    "Customer 818 belongs to CUSTOMER_GROUP: CG 4."
   ]
  },
  {
   "cell_type": "markdown",
   "id": "54c2201a",
   "metadata": {},
   "source": [
    "### Question 17: Which customer group does the customer that brings the most profit to Product 4925 belong to?"
   ]
  },
  {
   "cell_type": "code",
   "execution_count": 23,
   "id": "dfe32eb0",
   "metadata": {},
   "outputs": [
    {
     "data": {
      "text/plain": [
       "'CG 10'"
      ]
     },
     "execution_count": 23,
     "metadata": {},
     "output_type": "execute_result"
    }
   ],
   "source": [
    "# Find the CUSTOMER_GROUP for the customer who brought the most profit for Product 4925\n",
    "customer_group_max_profit = df[(df['PRODUCT_ID'] == 'Product 4925') & (df['CUSTOMERID'] == max_profit_customer)]['CUSTOMER_GROUP'].iloc[0]\n",
    "customer_group_max_profit"
   ]
  },
  {
   "cell_type": "markdown",
   "id": "3dd49ca4",
   "metadata": {},
   "source": [
    "Customer 864 belongs to CUSTOMER_GROUP: CG 10."
   ]
  },
  {
   "cell_type": "markdown",
   "id": "f774eddf",
   "metadata": {},
   "source": [
    "### 4.5 Sales Type"
   ]
  },
  {
   "cell_type": "markdown",
   "id": "2707d575",
   "metadata": {},
   "source": [
    "### Question 18: What is the sales type og Product 4925?"
   ]
  },
  {
   "cell_type": "code",
   "execution_count": 24,
   "id": "b5c4f532",
   "metadata": {},
   "outputs": [
    {
     "data": {
      "text/plain": [
       "299    Special Rebate\n",
       "300    Special Rebate\n",
       "301    Special Rebate\n",
       "302    Special Rebate\n",
       "303    Special Rebate\n",
       "304    Special Rebate\n",
       "305    Special Rebate\n",
       "306    Special Rebate\n",
       "307    Special Rebate\n",
       "308    Special Rebate\n",
       "309    Special Rebate\n",
       "310    Special Rebate\n",
       "311    Special Rebate\n",
       "312    Special Rebate\n",
       "313    Special Rebate\n",
       "314    Special Rebate\n",
       "315    Special Rebate\n",
       "316    Special Rebate\n",
       "317    Special Rebate\n",
       "318    Special Rebate\n",
       "319    Special Rebate\n",
       "320    Special Rebate\n",
       "321    Special Rebate\n",
       "322    Special Rebate\n",
       "323    Special Rebate\n",
       "324    Special Rebate\n",
       "325    Special Rebate\n",
       "Name: SALES_TYPE, dtype: object"
      ]
     },
     "execution_count": 24,
     "metadata": {},
     "output_type": "execute_result"
    }
   ],
   "source": [
    "# Find the SALES_TYPE of Product 4925\n",
    "sales_type = df[df['PRODUCT_ID'] == 'Product 4925']['SALES_TYPE']\n",
    "sales_type"
   ]
  },
  {
   "cell_type": "markdown",
   "id": "8fb3b900",
   "metadata": {},
   "source": [
    "The sales type of Product 4925 is: Special Rebate."
   ]
  },
  {
   "cell_type": "markdown",
   "id": "c53307dd",
   "metadata": {},
   "source": [
    "### 4.6 Price Elasticity of Demand"
   ]
  },
  {
   "cell_type": "markdown",
   "id": "3decd470",
   "metadata": {},
   "source": [
    "### Question 19: Calculate the price point elasticity of demand for product 4925."
   ]
  },
  {
   "cell_type": "code",
   "execution_count": 25,
   "id": "26b9bb95",
   "metadata": {},
   "outputs": [
    {
     "name": "stdout",
     "output_type": "stream",
     "text": [
      "Data Point 1:\n",
      "Price: 35.12, Quantity: 55\n",
      "Price Change: -7.77%, Quantity Change: -27.27%\n",
      "Price Elasticity of Demand: 3.51\n",
      "\n",
      "Data Point 2:\n",
      "Price: 32.39, Quantity: 40\n",
      "Price Change: -1.36%, Quantity Change: 225.00%\n",
      "Price Elasticity of Demand: -165.63\n",
      "\n",
      "Data Point 3:\n",
      "Price: 31.95, Quantity: 130\n",
      "Price Change: 13.99%, Quantity Change: -74.62%\n",
      "Price Elasticity of Demand: -5.33\n",
      "\n",
      "Data Point 4:\n",
      "Price: 36.42, Quantity: 33\n",
      "Price Change: -3.24%, Quantity Change: -54.55%\n",
      "Price Elasticity of Demand: 16.84\n",
      "\n",
      "Data Point 5:\n",
      "Price: 35.24, Quantity: 15\n",
      "Price Change: 0.00%, Quantity Change: -66.67%\n",
      "Price Elasticity of Demand: -inf\n",
      "\n",
      "Data Point 6:\n",
      "Price: 35.24, Quantity: 5\n",
      "Price Change: -7.38%, Quantity Change: 1340.00%\n",
      "Price Elasticity of Demand: -181.62\n",
      "\n",
      "Data Point 7:\n",
      "Price: 32.64, Quantity: 72\n",
      "Price Change: 10.39%, Quantity Change: -80.56%\n",
      "Price Elasticity of Demand: -7.76\n",
      "\n",
      "Data Point 8:\n",
      "Price: 36.03, Quantity: 14\n",
      "Price Change: 2.61%, Quantity Change: -85.71%\n",
      "Price Elasticity of Demand: -32.85\n",
      "\n",
      "Data Point 9:\n",
      "Price: 36.97, Quantity: 2\n",
      "Price Change: -17.47%, Quantity Change: 21700.00%\n",
      "Price Elasticity of Demand: -1241.87\n",
      "\n",
      "Data Point 10:\n",
      "Price: 30.51, Quantity: 436\n",
      "Price Change: 15.86%, Quantity Change: -95.41%\n",
      "Price Elasticity of Demand: -6.01\n",
      "\n",
      "Data Point 11:\n",
      "Price: 35.35, Quantity: 20\n",
      "Price Change: -0.74%, Quantity Change: 865.00%\n",
      "Price Elasticity of Demand: -1176.07\n",
      "\n",
      "Data Point 12:\n",
      "Price: 35.09, Quantity: 193\n",
      "Price Change: -1.54%, Quantity Change: -59.59%\n",
      "Price Elasticity of Demand: 38.72\n",
      "\n",
      "Data Point 13:\n",
      "Price: 34.55, Quantity: 78\n",
      "Price Change: -4.57%, Quantity Change: 61.54%\n",
      "Price Elasticity of Demand: -13.46\n",
      "\n",
      "Data Point 14:\n",
      "Price: 32.97, Quantity: 126\n",
      "Price Change: -6.01%, Quantity Change: 125.40%\n",
      "Price Elasticity of Demand: -20.88\n",
      "\n",
      "Data Point 15:\n",
      "Price: 30.99, Quantity: 284\n",
      "Price Change: 41.05%, Quantity Change: -93.66%\n",
      "Price Elasticity of Demand: -2.28\n",
      "\n",
      "Data Point 16:\n",
      "Price: 43.71, Quantity: 18\n",
      "Price Change: -32.58%, Quantity Change: 1766.67%\n",
      "Price Elasticity of Demand: -54.23\n",
      "\n",
      "Data Point 17:\n",
      "Price: 29.47, Quantity: 336\n",
      "Price Change: 15.47%, Quantity Change: -54.17%\n",
      "Price Elasticity of Demand: -3.50\n",
      "\n",
      "Data Point 18:\n",
      "Price: 34.03, Quantity: 154\n",
      "Price Change: -17.87%, Quantity Change: -31.17%\n",
      "Price Elasticity of Demand: 1.74\n",
      "\n",
      "Data Point 19:\n",
      "Price: 27.95, Quantity: 106\n",
      "Price Change: 10.73%, Quantity Change: -75.47%\n",
      "Price Elasticity of Demand: -7.03\n",
      "\n",
      "Data Point 20:\n",
      "Price: 30.95, Quantity: 26\n",
      "Price Change: 13.86%, Quantity Change: -80.77%\n",
      "Price Elasticity of Demand: -5.83\n",
      "\n",
      "Data Point 21:\n",
      "Price: 35.24, Quantity: 5\n",
      "Price Change: 7.09%, Quantity Change: 4740.00%\n",
      "Price Elasticity of Demand: 668.15\n",
      "\n",
      "Data Point 22:\n",
      "Price: 37.74, Quantity: 242\n",
      "Price Change: -6.62%, Quantity Change: -84.71%\n",
      "Price Elasticity of Demand: 12.79\n",
      "\n",
      "Data Point 23:\n",
      "Price: 35.24, Quantity: 37\n",
      "Price Change: -7.15%, Quantity Change: 24.32%\n",
      "Price Elasticity of Demand: -3.40\n",
      "\n",
      "Data Point 24:\n",
      "Price: 32.72, Quantity: 46\n",
      "Price Change: -5.81%, Quantity Change: -86.96%\n",
      "Price Elasticity of Demand: 14.97\n",
      "\n",
      "Data Point 25:\n",
      "Price: 30.82, Quantity: 6\n",
      "Price Change: 20.93%, Quantity Change: 866.67%\n",
      "Price Elasticity of Demand: 41.41\n",
      "\n",
      "Data Point 26:\n",
      "Price: 37.27, Quantity: 58\n",
      "Price Change: -8.77%, Quantity Change: 868.97%\n",
      "Price Elasticity of Demand: -99.04\n",
      "\n"
     ]
    },
    {
     "name": "stderr",
     "output_type": "stream",
     "text": [
      "/var/folders/53/3g2fl8m139q5qnmc4rzlrrkh0000gn/T/ipykernel_44981/3387328735.py:13: RuntimeWarning: divide by zero encountered in scalar divide\n",
      "  elasticity = [quantity_change[i] / price_change[i] for i in range(len(quantity_change))]\n"
     ]
    }
   ],
   "source": [
    "# Filter the dataset for Product 4925\n",
    "product_4925_data = df[df['PRODUCT_ID'] == 'Product 4925']\n",
    "\n",
    "# Extract the 'ORDER_QUANTITY' and 'CONTRACT_PRICE' columns\n",
    "quantity = product_4925_data['ORDER_QUANTITY'].values\n",
    "price = product_4925_data['CONTRACT_PRICE'].values\n",
    "\n",
    "# Calculate the percentage change in quantity and price\n",
    "quantity_change = [(quantity[i] - quantity[i-1]) / quantity[i-1] for i in range(1, len(quantity))]\n",
    "price_change = [(price[i] - price[i-1]) / price[i-1] for i in range(1, len(price))]\n",
    "\n",
    "# Compute the price elasticity of demand\n",
    "elasticity = [quantity_change[i] / price_change[i] for i in range(len(quantity_change))]\n",
    "\n",
    "for i in range(len(elasticity)):\n",
    "    print(f\"Data Point {i+1}:\")\n",
    "    print(f\"Price: {price[i]:.2f}, Quantity: {quantity[i]}\")\n",
    "    print(f\"Price Change: {price_change[i]:.2%}, Quantity Change: {quantity_change[i]:.2%}\")\n",
    "    print(f\"Price Elasticity of Demand: {elasticity[i]:.2f}\")\n",
    "    print()"
   ]
  },
  {
   "cell_type": "markdown",
   "id": "7c783b4a",
   "metadata": {},
   "source": [
    "### Question 20: Use the OLS regression method to calculate the price elasticity of demand for product 4925."
   ]
  },
  {
   "cell_type": "code",
   "execution_count": 26,
   "id": "26a00972",
   "metadata": {},
   "outputs": [
    {
     "name": "stderr",
     "output_type": "stream",
     "text": [
      "/var/folders/53/3g2fl8m139q5qnmc4rzlrrkh0000gn/T/ipykernel_44981/2627891630.py:2: SettingWithCopyWarning: \n",
      "A value is trying to be set on a copy of a slice from a DataFrame.\n",
      "Try using .loc[row_indexer,col_indexer] = value instead\n",
      "\n",
      "See the caveats in the documentation: https://pandas.pydata.org/pandas-docs/stable/user_guide/indexing.html#returning-a-view-versus-a-copy\n",
      "  product_4925_data['LN_PRICE'] = np.log(product_4925_data['CONTRACT_PRICE'])\n",
      "/var/folders/53/3g2fl8m139q5qnmc4rzlrrkh0000gn/T/ipykernel_44981/2627891630.py:3: SettingWithCopyWarning: \n",
      "A value is trying to be set on a copy of a slice from a DataFrame.\n",
      "Try using .loc[row_indexer,col_indexer] = value instead\n",
      "\n",
      "See the caveats in the documentation: https://pandas.pydata.org/pandas-docs/stable/user_guide/indexing.html#returning-a-view-versus-a-copy\n",
      "  product_4925_data['LN_QUANTITY'] = np.log(product_4925_data['ORDER_QUANTITY'])\n"
     ]
    }
   ],
   "source": [
    "# Create Log Transformed Variables\n",
    "product_4925_data['LN_PRICE'] = np.log(product_4925_data['CONTRACT_PRICE'])\n",
    "product_4925_data['LN_QUANTITY'] = np.log(product_4925_data['ORDER_QUANTITY'])"
   ]
  },
  {
   "cell_type": "code",
   "execution_count": 27,
   "id": "40026351",
   "metadata": {},
   "outputs": [
    {
     "name": "stdout",
     "output_type": "stream",
     "text": [
      "                            OLS Regression Results                            \n",
      "==============================================================================\n",
      "Dep. Variable:            LN_QUANTITY   R-squared:                       0.136\n",
      "Model:                            OLS   Adj. R-squared:                  0.102\n",
      "Method:                 Least Squares   F-statistic:                     3.939\n",
      "Date:                Wed, 15 May 2024   Prob (F-statistic):             0.0583\n",
      "Time:                        14:24:37   Log-Likelihood:                -46.333\n",
      "No. Observations:                  27   AIC:                             96.67\n",
      "Df Residuals:                      25   BIC:                             99.26\n",
      "Df Model:                           1                                         \n",
      "Covariance Type:            nonrobust                                         \n",
      "==============================================================================\n",
      "                 coef    std err          t      P>|t|      [0.025      0.975]\n",
      "------------------------------------------------------------------------------\n",
      "LN_PRICE      -5.9957      3.021     -1.985      0.058     -12.217       0.226\n",
      "const         25.0454     10.653      2.351      0.027       3.106      46.985\n",
      "==============================================================================\n",
      "Omnibus:                        0.811   Durbin-Watson:                   1.862\n",
      "Prob(Omnibus):                  0.667   Jarque-Bera (JB):                0.818\n",
      "Skew:                          -0.355   Prob(JB):                        0.664\n",
      "Kurtosis:                       2.527   Cond. No.                         151.\n",
      "==============================================================================\n",
      "\n",
      "Notes:\n",
      "[1] Standard Errors assume that the covariance matrix of the errors is correctly specified.\n"
     ]
    }
   ],
   "source": [
    "# Select the relevant variables for regression\n",
    "X = product_4925_data[['LN_PRICE']]\n",
    "\n",
    "# Add a constant term to the independent variables\n",
    "X = sm.add_constant(X, prepend = False)\n",
    "\n",
    "# Define the dependent variable\n",
    "y = product_4925_data['LN_QUANTITY']\n",
    "\n",
    "# Run the OLS regression\n",
    "model = sm.OLS(y, X)\n",
    "results = model.fit()\n",
    "\n",
    "# Print the regression results\n",
    "print(results.summary())"
   ]
  },
  {
   "cell_type": "markdown",
   "id": "94d2622c",
   "metadata": {},
   "source": [
    "So, the price elasticity of demand is -5.9957. This comes from the ANOVA table above and is the estimated coefficient of LN_PRICE regressed on LN_QUANTITY.\n",
    "\n",
    "**A 1% increase in price will lower the quantity sold by 5.9957%.**"
   ]
  },
  {
   "cell_type": "markdown",
   "id": "9b559aec",
   "metadata": {},
   "source": [
    "### 4.7 Price Elasticity of Revenue"
   ]
  },
  {
   "cell_type": "markdown",
   "id": "4f86c22f",
   "metadata": {},
   "source": [
    "### Question 21: Use the OLS regression method to calculate the price elasticity of revenue for product 4925."
   ]
  },
  {
   "cell_type": "code",
   "execution_count": 28,
   "id": "e48ec86a",
   "metadata": {},
   "outputs": [
    {
     "name": "stderr",
     "output_type": "stream",
     "text": [
      "/var/folders/53/3g2fl8m139q5qnmc4rzlrrkh0000gn/T/ipykernel_44981/416045906.py:1: SettingWithCopyWarning: \n",
      "A value is trying to be set on a copy of a slice from a DataFrame.\n",
      "Try using .loc[row_indexer,col_indexer] = value instead\n",
      "\n",
      "See the caveats in the documentation: https://pandas.pydata.org/pandas-docs/stable/user_guide/indexing.html#returning-a-view-versus-a-copy\n",
      "  product_4925_data['LN_REVENUE'] = np.log(product_4925_data['REVENUE'])\n"
     ]
    }
   ],
   "source": [
    "product_4925_data['LN_REVENUE'] = np.log(product_4925_data['REVENUE'])"
   ]
  },
  {
   "cell_type": "code",
   "execution_count": 29,
   "id": "799765e5",
   "metadata": {},
   "outputs": [
    {
     "name": "stdout",
     "output_type": "stream",
     "text": [
      "                            OLS Regression Results                            \n",
      "==============================================================================\n",
      "Dep. Variable:             LN_REVENUE   R-squared:                       0.099\n",
      "Model:                            OLS   Adj. R-squared:                  0.063\n",
      "Method:                 Least Squares   F-statistic:                     2.735\n",
      "Date:                Wed, 15 May 2024   Prob (F-statistic):              0.111\n",
      "Time:                        14:24:37   Log-Likelihood:                -46.333\n",
      "No. Observations:                  27   AIC:                             96.67\n",
      "Df Residuals:                      25   BIC:                             99.26\n",
      "Df Model:                           1                                         \n",
      "Covariance Type:            nonrobust                                         \n",
      "==============================================================================\n",
      "                 coef    std err          t      P>|t|      [0.025      0.975]\n",
      "------------------------------------------------------------------------------\n",
      "LN_PRICE      -4.9957      3.021     -1.654      0.111     -11.217       1.226\n",
      "const         25.0454     10.653      2.351      0.027       3.106      46.985\n",
      "==============================================================================\n",
      "Omnibus:                        0.811   Durbin-Watson:                   1.862\n",
      "Prob(Omnibus):                  0.667   Jarque-Bera (JB):                0.818\n",
      "Skew:                          -0.355   Prob(JB):                        0.664\n",
      "Kurtosis:                       2.527   Cond. No.                         151.\n",
      "==============================================================================\n",
      "\n",
      "Notes:\n",
      "[1] Standard Errors assume that the covariance matrix of the errors is correctly specified.\n"
     ]
    }
   ],
   "source": [
    "# Select the relevant variables for regression\n",
    "L = product_4925_data[['LN_PRICE']]\n",
    "\n",
    "# Add a constant term to the independent variables\n",
    "L = sm.add_constant(L, prepend = False)\n",
    "\n",
    "# Define the dependent variable\n",
    "K = product_4925_data['LN_REVENUE']\n",
    "\n",
    "# Run the OLS regression\n",
    "model1 = sm.OLS(K, L)\n",
    "results1 = model1.fit()\n",
    "\n",
    "# Print the regression results\n",
    "print(results1.summary())"
   ]
  },
  {
   "cell_type": "markdown",
   "id": "bbeffb3f",
   "metadata": {},
   "source": [
    "So, the price elasticity of revenue is -4.9957. This comes from the ANOVA table above and is the estimated coefficient of LN_PRICE regressed on LN_REVENUE.\n",
    "\n",
    "**A 1% increase in price will lower the revenue by 4.9957%.**"
   ]
  }
 ],
 "metadata": {
  "kernelspec": {
   "display_name": "Python 3 (ipykernel)",
   "language": "python",
   "name": "python3"
  },
  "language_info": {
   "codemirror_mode": {
    "name": "ipython",
    "version": 3
   },
   "file_extension": ".py",
   "mimetype": "text/x-python",
   "name": "python",
   "nbconvert_exporter": "python",
   "pygments_lexer": "ipython3",
   "version": "3.11.5"
  }
 },
 "nbformat": 4,
 "nbformat_minor": 5
}
